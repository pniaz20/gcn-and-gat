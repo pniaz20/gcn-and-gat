{
  "cells": [
    {
      "cell_type": "markdown",
      "metadata": {
        "id": "Qn9aNItt4okk"
      },
      "source": [
        "# Graph Convolution Networks and Graph Attention Networks\n",
        "\n",
        "Here, we will implement the vanilla version of Graph Convolution\n",
        "Networks (GCN) [Kipf and Welling \\(2016\\)](https://arxiv.org/abs/1609.02907) and Graph Attention Networks (GAT) [Veličković, et al.\n",
        "\\(2018\\)](https://openreview.net/forum?id=rJXMpikCZ)."
      ]
    },
    {
      "attachments": {},
      "cell_type": "markdown",
      "metadata": {
        "id": "7Ab_-ToD6EWN"
      },
      "source": [
        "## Background\n",
        "### Basics of GCN\n",
        "The goal of a GCN is to learn a function of signals features on a graph $G = (V, E)$, which takes as inputs:\n",
        "1. The input features of each node, $x_i ∈ R^F$ (in matrix form: $X ∈ R^{|V |×F}$ )\n",
        "2. some information about the graph structure, typically the adjacency matrix $A$\n",
        "\n",
        "Each convolutional layer can be written as $H^{(l+1)} = f(H^{(l)}, A)$ for some function $f$. The function $f$ we are using for this assignment is in the form of $f(H^{(l)}, A) = σ(\\hat{D}^{-1/2}\\hat{A}\\hat{D}^{-1/2}H^{(l)}W^{(l)})$, where $\\hat{A} = A + I$ and $\\hat{D}$ is the diagonal node degree matrix ($D^{-1}\\hat{A}$ normalizes $\\hat{A}$ such that all rows sum to one). Let $\\tilde{A} = \\hat{D}^{-1/2}\\hat{A}\\hat{D}^{-1/2}$. The GCN we will implement takes two convolution layers, $Z = f(X, A) = \\mathrm{softmax}(\\tilde{A}~.~\\mathrm{Dropout}(\\mathrm{ReLU}(\\tilde{A}XW^{(0)}))~.W^{(1)})$\n",
        "\n",
        "### Basics of GAT\n",
        "Graph Attention Network (GAT) is a novel convolution-style neural network. It operates on graph-structured data and leverages masked self-attentional layers. In this assignment, we will implement the graph attention layer.\n",
        "\n",
        "### Dataset\n",
        "The dataset we used is Cora ([Sen et al. \\(2008\\)](http://www.cs.iit.edu/~ml/pdfs/sen-aimag08.pdf)). Cora is one of standard citation network benchmark dataset (just like MNIST dataset for computer vision tasks). It that consists of 2708 scientific publications and 5429 links. Each publication is classified into one of 7 classes. Each publication is described by a word vector (length 1433) that indicates the absence/presence of the corresponding word. This is used as the features of each node for our experiment. The task is to perform node classification (predict which class each node belongs to)."
      ]
    },
    {
      "cell_type": "markdown",
      "metadata": {
        "id": "kTsdgLCErn4Z"
      },
      "source": [
        "## Experiments\n",
        "Experiments:\n",
        "We will implement the following parts.\n",
        "1. Implementation of Graph Convolution Layer: Complete the code for `GraphConvolution` Class\n",
        "2. Implementation of Graph Convolution Network: Complete the code for `GCN` Class\n",
        "3. Train Graph Convolution Network: After implementing the required classes, now we can train our GCN. We can play with the hyperparameters in args.\n",
        "4. Implementation of Graph Attention Layer: See the code for `GraphAttentionLayer` Class\n",
        "5. Train Graph Convolution Network: After implementing the required classes, train the GAT. We can play with the hyperparameters in args.\n",
        "6. Compare models: Compare the evaluation results for Vanilla GCN and GAT. We will comment on the discrepancy in their performance (if any) and briefly explain why we think it’s the case."
      ]
    },
    {
      "cell_type": "markdown",
      "metadata": {
        "id": "ImLCXm8IsSS2"
      },
      "source": [
        "# Download the Cora data"
      ]
    },
    {
      "cell_type": "code",
      "execution_count": null,
      "metadata": {
        "id": "xRN47p1SKRgP"
      },
      "outputs": [],
      "source": [
        "%wget https://linqs-data.soe.ucsc.edu/public/lbc/cora.tgz\n",
        "%tar -zxvf cora.tgz"
      ]
    },
    {
      "cell_type": "markdown",
      "metadata": {
        "id": "rXIYzURA4OKg"
      },
      "source": [
        "# import modules and set random seed"
      ]
    },
    {
      "cell_type": "code",
      "execution_count": 1,
      "metadata": {
        "id": "uJQYMX02_z0M"
      },
      "outputs": [
        {
          "name": "stdout",
          "output_type": "stream",
          "text": [
            "Currenbt Working Directory:  d:\\REPO\\comp541-hw\\assignment4\n",
            "Selected Device for PyTorch:  cuda:0\n"
          ]
        }
      ],
      "source": [
        "import os\n",
        "import torch\n",
        "import math\n",
        "import time\n",
        "import numpy as np\n",
        "import scipy.sparse as sp\n",
        "import pandas as pd\n",
        "import torch.nn as nn\n",
        "import torch.nn.functional as F\n",
        "import torch.optim as optim\n",
        "\n",
        "seed = 0\n",
        "\n",
        "np.random.seed(seed)\n",
        "torch.manual_seed(seed)\n",
        "torch.cuda.manual_seed(seed)\n",
        "torch.cuda.manual_seed_all(seed)\n",
        "device = torch.device('cuda:0' if torch.cuda.is_available() else 'cpu')\n",
        "\n",
        "print(\"Currenbt Working Directory: \", os.getcwd())\n",
        "print(\"Selected Device for PyTorch: \", device)"
      ]
    },
    {
      "cell_type": "markdown",
      "metadata": {
        "id": "dgOv1h7YsK-5"
      },
      "source": [
        "# Loading and preprocessing the data"
      ]
    },
    {
      "cell_type": "code",
      "execution_count": 2,
      "metadata": {
        "id": "kXPHN61i9keB"
      },
      "outputs": [],
      "source": [
        "def encode_onehot(labels):\n",
        "    # The classes must be sorted before encoding to enable static class encoding.\n",
        "    # In other words, make sure the first class always maps to index 0.\n",
        "    classes = sorted(list(set(labels)))\n",
        "    classes_dict = {c: np.identity(len(classes))[i, :] for i, c in\n",
        "                    enumerate(classes)}\n",
        "    labels_onehot = np.array(list(map(classes_dict.get, labels)),\n",
        "                             dtype=np.int32)\n",
        "    return labels_onehot\n",
        "\n",
        "\n",
        "def load_data(path=\"./cora/\", dataset=\"cora\", training_samples=140):\n",
        "    \"\"\"Load citation network dataset (cora only for now)\"\"\"\n",
        "    print('Loading {} dataset...'.format(dataset))\n",
        "\n",
        "    idx_features_labels = np.genfromtxt(\"{}{}.content\".format(path, dataset),\n",
        "                                        dtype=np.dtype(str))\n",
        "    features = sp.csr_matrix(idx_features_labels[:, 1:-1], dtype=np.float32)\n",
        "    labels = encode_onehot(idx_features_labels[:, -1])\n",
        "\n",
        "    # build graph\n",
        "    idx = np.array(idx_features_labels[:, 0], dtype=np.int32)\n",
        "    idx_map = {j: i for i, j in enumerate(idx)}\n",
        "    edges_unordered = np.genfromtxt(\"{}{}.cites\".format(path, dataset),\n",
        "                                    dtype=np.int32)\n",
        "    edges = np.array(list(map(idx_map.get, edges_unordered.flatten())),\n",
        "                     dtype=np.int32).reshape(edges_unordered.shape)\n",
        "    adj = sp.coo_matrix((np.ones(edges.shape[0]), (edges[:, 0], edges[:, 1])),\n",
        "                        shape=(labels.shape[0], labels.shape[0]),\n",
        "                        dtype=np.float32)\n",
        "\n",
        "    # build symmetric adjacency matrix\n",
        "    adj = adj + adj.T.multiply(adj.T > adj) - adj.multiply(adj.T > adj)\n",
        "\n",
        "    features = normalize(features)\n",
        "    adj = adj + sp.eye(adj.shape[0])\n",
        "    adj = normalize_adj(adj)  # This is basically the A\\~ in the description above.\n",
        "\n",
        "    # Random indexes\n",
        "    idx_rand = torch.randperm(len(labels))\n",
        "    # Nodes for training\n",
        "    idx_train = idx_rand[:training_samples]\n",
        "    # Nodes for validation\n",
        "    idx_val= idx_rand[training_samples:]\n",
        "\n",
        "    adj = torch.FloatTensor(np.array(adj.todense()))\n",
        "    features = torch.FloatTensor(np.array(features.todense()))\n",
        "    labels = torch.LongTensor(np.where(labels)[1])\n",
        "\n",
        "    idx_train = torch.LongTensor(idx_train)\n",
        "    idx_val = torch.LongTensor(idx_val)\n",
        "\n",
        "    return adj, features, labels, idx_train, idx_val\n",
        "\n",
        "\n",
        "def normalize_adj(mx):\n",
        "    \"\"\"symmetric normalization\"\"\"\n",
        "    rowsum = np.array(mx.sum(1))\n",
        "    r_inv_sqrt = np.power(rowsum, -0.5).flatten()\n",
        "    r_inv_sqrt[np.isinf(r_inv_sqrt)] = 0.\n",
        "    r_mat_inv_sqrt = sp.diags(r_inv_sqrt)\n",
        "    return mx.dot(r_mat_inv_sqrt).transpose().dot(r_mat_inv_sqrt)\n",
        "\n",
        "\n",
        "def normalize(mx):\n",
        "    \"\"\"Row-normalize sparse matrix\"\"\"\n",
        "    rowsum = np.array(mx.sum(1))\n",
        "    r_inv = np.power(rowsum, -1).flatten()\n",
        "    r_inv[np.isinf(r_inv)] = 0.\n",
        "    r_mat_inv = sp.diags(r_inv)\n",
        "    mx = r_mat_inv.dot(mx)\n",
        "    return mx\n",
        "\n",
        "\n",
        "def accuracy(output, labels):\n",
        "    preds = output.max(1)[1].type_as(labels)\n",
        "    correct = preds.eq(labels).double()\n",
        "    correct = correct.sum()\n",
        "    return correct / len(labels)"
      ]
    },
    {
      "cell_type": "markdown",
      "metadata": {
        "id": "WzCZVd1JsbHr"
      },
      "source": [
        "## check the data"
      ]
    },
    {
      "cell_type": "code",
      "execution_count": 3,
      "metadata": {
        "id": "KlsKjMKx8_b7"
      },
      "outputs": [
        {
          "name": "stdout",
          "output_type": "stream",
          "text": [
            "Loading cora dataset...\n"
          ]
        }
      ],
      "source": [
        "adj, features, labels, idx_train, idx_val = load_data()"
      ]
    },
    {
      "cell_type": "code",
      "execution_count": 4,
      "metadata": {
        "id": "mxrv21rLnpiZ"
      },
      "outputs": [
        {
          "name": "stdout",
          "output_type": "stream",
          "text": [
            "tensor([[0.1667, 0.0000, 0.0000,  ..., 0.0000, 0.0000, 0.0000],\n",
            "        [0.0000, 0.5000, 0.0000,  ..., 0.0000, 0.0000, 0.0000],\n",
            "        [0.0000, 0.0000, 0.2000,  ..., 0.0000, 0.0000, 0.0000],\n",
            "        ...,\n",
            "        [0.0000, 0.0000, 0.0000,  ..., 0.2000, 0.0000, 0.0000],\n",
            "        [0.0000, 0.0000, 0.0000,  ..., 0.0000, 0.2000, 0.0000],\n",
            "        [0.0000, 0.0000, 0.0000,  ..., 0.0000, 0.0000, 0.2500]])\n",
            "torch.Size([2708, 2708])\n"
          ]
        }
      ],
      "source": [
        "print(adj)\n",
        "print(adj.shape)"
      ]
    },
    {
      "cell_type": "code",
      "execution_count": 5,
      "metadata": {
        "id": "lWrDf0iWnpqV"
      },
      "outputs": [
        {
          "name": "stdout",
          "output_type": "stream",
          "text": [
            "tensor([[0., 0., 0.,  ..., 0., 0., 0.],\n",
            "        [0., 0., 0.,  ..., 0., 0., 0.],\n",
            "        [0., 0., 0.,  ..., 0., 0., 0.],\n",
            "        ...,\n",
            "        [0., 0., 0.,  ..., 0., 0., 0.],\n",
            "        [0., 0., 0.,  ..., 0., 0., 0.],\n",
            "        [0., 0., 0.,  ..., 0., 0., 0.]])\n",
            "torch.Size([2708, 1433])\n"
          ]
        }
      ],
      "source": [
        "print(features)\n",
        "print(features.shape)"
      ]
    },
    {
      "cell_type": "code",
      "execution_count": 6,
      "metadata": {
        "id": "TUkt2JJdsuA2"
      },
      "outputs": [
        {
          "name": "stdout",
          "output_type": "stream",
          "text": [
            "tensor([2, 5, 4,  ..., 1, 0, 2])\n",
            "tensor([0, 1, 2, 3, 4, 5, 6])\n",
            "2708\n"
          ]
        }
      ],
      "source": [
        "print(labels)\n",
        "print(labels.unique())\n",
        "print(len(labels))"
      ]
    },
    {
      "cell_type": "code",
      "execution_count": 7,
      "metadata": {
        "id": "iGP18jNAs1Gp"
      },
      "outputs": [
        {
          "name": "stdout",
          "output_type": "stream",
          "text": [
            "140\n",
            "2568\n"
          ]
        }
      ],
      "source": [
        "print(len(idx_train))\n",
        "print(len(idx_val))"
      ]
    },
    {
      "cell_type": "markdown",
      "metadata": {
        "id": "vHqIcfH-vIic"
      },
      "source": [
        "# Vanilla GCN for node classification\n",
        "\n",
        "\n",
        "\n",
        "\n",
        "\n",
        "\n"
      ]
    },
    {
      "cell_type": "markdown",
      "metadata": {
        "id": "f48tylWyjLPE"
      },
      "source": [
        "## Define Graph Convolution layer\n",
        "\n",
        "This module takes $\\mathbf{h} = \\{ \\overrightarrow{h_1}, \\overrightarrow{h_2}, \\dots, \\overrightarrow{h_N} \\}$ where $\\overrightarrow{h_i} \\in \\mathbb{R}^F$ as input and outputs $\\mathbf{h'} = \\{ \\overrightarrow{h'_1}, \\overrightarrow{h'_2}, \\dots, \\overrightarrow{h'_N} \\}$, where $\\overrightarrow{h'_i} \\in \\mathbb{R}^{F'}$. We will do the following:\n",
        "1.   perform initial transformation: $\\mathbf{s} = \\mathbf{W} \\times \\mathbf{h} ^{(l)}$\n",
        "2.   multiply $\\mathbf{s}$ by normalized adjacency matrix: $\\mathbf{h'} = \\mathbf{A} \\times \\mathbf{s}$"
      ]
    },
    {
      "cell_type": "code",
      "execution_count": 8,
      "metadata": {
        "id": "M-fU8L7f41VZ"
      },
      "outputs": [],
      "source": [
        "class GraphConvolution(nn.Module):\n",
        "    \"\"\"\n",
        "    A Graph Convolution Layer (GCN)\n",
        "    \"\"\"\n",
        "\n",
        "    def __init__(self, in_features, out_features, bias=True):\n",
        "        \"\"\"\n",
        "        * `in_features`, $F$, is the number of input features per node\n",
        "        * `out_features`, $F'$, is the number of output features per node\n",
        "        * `bias`, whether to include the bias term in the linear layer. Default=True\n",
        "        \"\"\"\n",
        "        super(GraphConvolution, self).__init__()\n",
        "        self.linear = nn.Linear(in_features, out_features, bias=bias)\n",
        "\n",
        "\n",
        "        \n",
        "\n",
        "    def forward(self, input, adj):\n",
        "        output = torch.spmm(adj, self.linear(input))\n",
        "        return output\n",
        "        \n"
      ]
    },
    {
      "cell_type": "markdown",
      "metadata": {
        "id": "RxBELCxkjF6F"
      },
      "source": [
        "## Define GCN (Your Task)\n",
        "\n",
        "you will implement a two-layer GCN with ReLU activation function and Dropout after the first Conv layer."
      ]
    },
    {
      "cell_type": "code",
      "execution_count": 9,
      "metadata": {
        "id": "HtVr2cN8jD5t"
      },
      "outputs": [],
      "source": [
        "class GCN(nn.Module):\n",
        "    '''\n",
        "    A two-layer GCN\n",
        "    '''\n",
        "    def __init__(self, nfeat, n_hidden, n_classes, dropout, bias=True):\n",
        "        \"\"\"\n",
        "        * `nfeat`, is the number of input features per node of the first layer\n",
        "        * `n_hidden`, number of hidden units\n",
        "        * `n_classes`, total number of classes for classification\n",
        "        * `dropout`, the dropout ratio\n",
        "        * `bias`, whether to include the bias term in the linear layer. Default=True\n",
        "        \"\"\"\n",
        "\n",
        "        super(GCN, self).__init__()\n",
        "        self.gc1 = GraphConvolution(nfeat, n_hidden, bias=bias)\n",
        "        self.gc2 = GraphConvolution(n_hidden, n_classes, bias=bias)\n",
        "        self.dropout = nn.Dropout(dropout)\n",
        "        self.relu = nn.ReLU()\n",
        "        \n",
        "\n",
        "    def forward(self, x, adj):\n",
        "        x = self.gc1(x, adj)\n",
        "        x = self.relu(x)\n",
        "        x = self.dropout(x)\n",
        "        x = self.gc2(x, adj)\n",
        "        return x\n",
        "        "
      ]
    },
    {
      "cell_type": "markdown",
      "metadata": {
        "id": "IX1d9F1G508r"
      },
      "source": [
        "## define loss function"
      ]
    },
    {
      "cell_type": "code",
      "execution_count": 4,
      "metadata": {
        "id": "HyhqJ39OCzNN"
      },
      "outputs": [],
      "source": [
        "criterion = nn.CrossEntropyLoss()"
      ]
    },
    {
      "cell_type": "markdown",
      "metadata": {
        "id": "vXsdid6C5K1c"
      },
      "source": [
        "## training loop"
      ]
    },
    {
      "cell_type": "code",
      "execution_count": 11,
      "metadata": {
        "id": "bjlYeoFPFAWm"
      },
      "outputs": [],
      "source": [
        "args = {\"training_samples\": 140,\n",
        "        \"epochs\": 100,\n",
        "        \"lr\": 0.01,\n",
        "        \"weight_decay\": 5e-4,\n",
        "        \"hidden\": 16,\n",
        "        \"dropout\": 0.5,\n",
        "        \"bias\": True, \n",
        "        }\n"
      ]
    },
    {
      "cell_type": "code",
      "execution_count": 5,
      "metadata": {
        "id": "Qbx0uc-9G5vs"
      },
      "outputs": [],
      "source": [
        "def train(epoch):\n",
        "    t = time.time()\n",
        "    model.train()\n",
        "    optimizer.zero_grad()\n",
        "    output = model(features, adj)\n",
        "    loss_train = criterion(output[idx_train], labels[idx_train])\n",
        "    acc_train = accuracy(output[idx_train], labels[idx_train])\n",
        "    loss_train.backward()\n",
        "    optimizer.step()\n",
        "\n",
        "    model.eval()\n",
        "    output = model(features, adj)\n",
        "\n",
        "    loss_val = criterion(output[idx_val], labels[idx_val])\n",
        "    acc_val = accuracy(output[idx_val], labels[idx_val])\n",
        "    print('Epoch: {:04d}'.format(epoch+1),\n",
        "          'loss_train: {:.4f}'.format(loss_train.item()),\n",
        "          'acc_train: {:.4f}'.format(acc_train.item()),\n",
        "          'loss_val: {:.4f}'.format(loss_val.item()),\n",
        "          'acc_val: {:.4f}'.format(acc_val.item()),\n",
        "          'time: {:.4f}s'.format(time.time() - t))\n",
        "\n",
        "\n",
        "def test():\n",
        "    model.eval()\n",
        "    output = model(features, adj)\n",
        "    loss_test = criterion(output[idx_val], labels[idx_val])\n",
        "    acc_test = accuracy(output[idx_val], labels[idx_val])\n",
        "    print(\"Test set results:\",\n",
        "          \"loss= {:.4f}\".format(loss_test.item()),\n",
        "          \"accuracy= {:.4f}\".format(acc_test.item()))\n",
        "\n",
        "\n"
      ]
    },
    {
      "cell_type": "code",
      "execution_count": 13,
      "metadata": {
        "id": "TjNiui83FYBr"
      },
      "outputs": [
        {
          "name": "stdout",
          "output_type": "stream",
          "text": [
            "Loading cora dataset...\n"
          ]
        }
      ],
      "source": [
        "model = GCN(nfeat=features.shape[1],\n",
        "            n_hidden=args[\"hidden\"],\n",
        "            n_classes=labels.max().item() + 1,\n",
        "            dropout=args[\"dropout\"]).to(device)\n",
        "optimizer = optim.Adam(model.parameters(),\n",
        "                       lr=args[\"lr\"], weight_decay=args[\"weight_decay\"])\n",
        "\n",
        "\n",
        "adj, features, labels, idx_train, idx_val = load_data(training_samples=args[\"training_samples\"])\n",
        "adj, features, labels, idx_train, idx_val = adj.to(device), features.to(device), labels.to(device), idx_train.to(device), idx_val.to(device)"
      ]
    },
    {
      "cell_type": "markdown",
      "metadata": {
        "id": "1W6tqqj16iz-"
      },
      "source": [
        "## training Vanilla GCN"
      ]
    },
    {
      "cell_type": "code",
      "execution_count": 14,
      "metadata": {
        "id": "WSjUYJPSlnOU"
      },
      "outputs": [
        {
          "name": "stdout",
          "output_type": "stream",
          "text": [
            "Epoch: 0001 loss_train: 1.9387 acc_train: 0.1143 loss_val: 1.9272 acc_val: 0.1597 time: 2.2340s\n",
            "Epoch: 0002 loss_train: 1.9319 acc_train: 0.1143 loss_val: 1.9223 acc_val: 0.1597 time: 0.0300s\n",
            "Epoch: 0003 loss_train: 1.9245 acc_train: 0.1143 loss_val: 1.9165 acc_val: 0.1663 time: 0.0141s\n",
            "Epoch: 0004 loss_train: 1.9154 acc_train: 0.1786 loss_val: 1.9103 acc_val: 0.2134 time: 0.0149s\n",
            "Epoch: 0005 loss_train: 1.9070 acc_train: 0.2000 loss_val: 1.9037 acc_val: 0.1340 time: 0.0131s\n",
            "Epoch: 0006 loss_train: 1.8966 acc_train: 0.2071 loss_val: 1.8968 acc_val: 0.1464 time: 0.0179s\n",
            "Epoch: 0007 loss_train: 1.8865 acc_train: 0.2429 loss_val: 1.8893 acc_val: 0.3470 time: 0.0130s\n",
            "Epoch: 0008 loss_train: 1.8768 acc_train: 0.4000 loss_val: 1.8815 acc_val: 0.3520 time: 0.0140s\n",
            "Epoch: 0009 loss_train: 1.8699 acc_train: 0.3857 loss_val: 1.8735 acc_val: 0.3104 time: 0.0151s\n",
            "Epoch: 0010 loss_train: 1.8577 acc_train: 0.3786 loss_val: 1.8654 acc_val: 0.3018 time: 0.0150s\n",
            "Epoch: 0011 loss_train: 1.8397 acc_train: 0.3500 loss_val: 1.8571 acc_val: 0.3014 time: 0.0170s\n",
            "Epoch: 0012 loss_train: 1.8268 acc_train: 0.3429 loss_val: 1.8487 acc_val: 0.3014 time: 0.0159s\n",
            "Epoch: 0013 loss_train: 1.8119 acc_train: 0.3286 loss_val: 1.8403 acc_val: 0.3014 time: 0.0150s\n",
            "Epoch: 0014 loss_train: 1.8050 acc_train: 0.3286 loss_val: 1.8320 acc_val: 0.3010 time: 0.0160s\n",
            "Epoch: 0015 loss_train: 1.7883 acc_train: 0.3286 loss_val: 1.8240 acc_val: 0.3010 time: 0.0070s\n",
            "Epoch: 0016 loss_train: 1.7659 acc_train: 0.3214 loss_val: 1.8162 acc_val: 0.3010 time: 0.0060s\n",
            "Epoch: 0017 loss_train: 1.7582 acc_train: 0.3214 loss_val: 1.8088 acc_val: 0.3010 time: 0.0030s\n",
            "Epoch: 0018 loss_train: 1.7511 acc_train: 0.3214 loss_val: 1.8020 acc_val: 0.3010 time: 0.0030s\n",
            "Epoch: 0019 loss_train: 1.7432 acc_train: 0.3214 loss_val: 1.7958 acc_val: 0.3010 time: 0.0020s\n",
            "Epoch: 0020 loss_train: 1.7293 acc_train: 0.3286 loss_val: 1.7901 acc_val: 0.3010 time: 0.0050s\n",
            "Epoch: 0021 loss_train: 1.7062 acc_train: 0.3214 loss_val: 1.7852 acc_val: 0.3010 time: 0.0040s\n",
            "Epoch: 0022 loss_train: 1.6965 acc_train: 0.3214 loss_val: 1.7807 acc_val: 0.3010 time: 0.0050s\n",
            "Epoch: 0023 loss_train: 1.7003 acc_train: 0.3214 loss_val: 1.7764 acc_val: 0.3010 time: 0.0050s\n",
            "Epoch: 0024 loss_train: 1.6738 acc_train: 0.3214 loss_val: 1.7720 acc_val: 0.3010 time: 0.0040s\n",
            "Epoch: 0025 loss_train: 1.6729 acc_train: 0.3214 loss_val: 1.7672 acc_val: 0.3010 time: 0.0040s\n",
            "Epoch: 0026 loss_train: 1.6607 acc_train: 0.3214 loss_val: 1.7615 acc_val: 0.3010 time: 0.0043s\n",
            "Epoch: 0027 loss_train: 1.6592 acc_train: 0.3214 loss_val: 1.7550 acc_val: 0.3010 time: 0.0040s\n",
            "Epoch: 0028 loss_train: 1.6370 acc_train: 0.3286 loss_val: 1.7471 acc_val: 0.3010 time: 0.0060s\n",
            "Epoch: 0029 loss_train: 1.6376 acc_train: 0.3214 loss_val: 1.7383 acc_val: 0.3014 time: 0.0039s\n",
            "Epoch: 0030 loss_train: 1.6031 acc_train: 0.3357 loss_val: 1.7287 acc_val: 0.3014 time: 0.0060s\n",
            "Epoch: 0031 loss_train: 1.6168 acc_train: 0.3357 loss_val: 1.7183 acc_val: 0.3014 time: 0.0040s\n",
            "Epoch: 0032 loss_train: 1.5878 acc_train: 0.3214 loss_val: 1.7078 acc_val: 0.3014 time: 0.0030s\n",
            "Epoch: 0033 loss_train: 1.5753 acc_train: 0.3429 loss_val: 1.6968 acc_val: 0.3026 time: 0.0031s\n",
            "Epoch: 0034 loss_train: 1.5645 acc_train: 0.3500 loss_val: 1.6854 acc_val: 0.3030 time: 0.0029s\n",
            "Epoch: 0035 loss_train: 1.5452 acc_train: 0.3571 loss_val: 1.6742 acc_val: 0.3061 time: 0.0040s\n",
            "Epoch: 0036 loss_train: 1.5276 acc_train: 0.3929 loss_val: 1.6630 acc_val: 0.3135 time: 0.0030s\n",
            "Epoch: 0037 loss_train: 1.5100 acc_train: 0.3857 loss_val: 1.6517 acc_val: 0.3217 time: 0.0040s\n",
            "Epoch: 0038 loss_train: 1.5060 acc_train: 0.4214 loss_val: 1.6402 acc_val: 0.3322 time: 0.0020s\n",
            "Epoch: 0039 loss_train: 1.4978 acc_train: 0.4714 loss_val: 1.6287 acc_val: 0.3450 time: 0.0041s\n",
            "Epoch: 0040 loss_train: 1.4586 acc_train: 0.4714 loss_val: 1.6172 acc_val: 0.3586 time: 0.0040s\n",
            "Epoch: 0041 loss_train: 1.4376 acc_train: 0.5286 loss_val: 1.6057 acc_val: 0.3676 time: 0.0039s\n",
            "Epoch: 0042 loss_train: 1.4544 acc_train: 0.4714 loss_val: 1.5944 acc_val: 0.3816 time: 0.0041s\n",
            "Epoch: 0043 loss_train: 1.4297 acc_train: 0.5000 loss_val: 1.5831 acc_val: 0.3894 time: 0.0026s\n",
            "Epoch: 0044 loss_train: 1.4057 acc_train: 0.5429 loss_val: 1.5720 acc_val: 0.3984 time: 0.0030s\n",
            "Epoch: 0045 loss_train: 1.4023 acc_train: 0.4857 loss_val: 1.5613 acc_val: 0.4026 time: 0.0030s\n",
            "Epoch: 0046 loss_train: 1.3701 acc_train: 0.5214 loss_val: 1.5510 acc_val: 0.4065 time: 0.0029s\n",
            "Epoch: 0047 loss_train: 1.3503 acc_train: 0.5500 loss_val: 1.5409 acc_val: 0.4116 time: 0.0041s\n",
            "Epoch: 0048 loss_train: 1.3406 acc_train: 0.5571 loss_val: 1.5308 acc_val: 0.4178 time: 0.0040s\n",
            "Epoch: 0049 loss_train: 1.3308 acc_train: 0.5643 loss_val: 1.5209 acc_val: 0.4264 time: 0.0040s\n",
            "Epoch: 0050 loss_train: 1.3267 acc_train: 0.5357 loss_val: 1.5107 acc_val: 0.4350 time: 0.0049s\n",
            "Epoch: 0051 loss_train: 1.3009 acc_train: 0.5714 loss_val: 1.5009 acc_val: 0.4470 time: 0.0050s\n",
            "Epoch: 0052 loss_train: 1.3013 acc_train: 0.5429 loss_val: 1.4909 acc_val: 0.4579 time: 0.0030s\n",
            "Epoch: 0053 loss_train: 1.2545 acc_train: 0.5643 loss_val: 1.4805 acc_val: 0.4727 time: 0.0040s\n",
            "Epoch: 0054 loss_train: 1.2635 acc_train: 0.6000 loss_val: 1.4701 acc_val: 0.4817 time: 0.0039s\n",
            "Epoch: 0055 loss_train: 1.2263 acc_train: 0.6357 loss_val: 1.4597 acc_val: 0.4945 time: 0.0042s\n",
            "Epoch: 0056 loss_train: 1.2386 acc_train: 0.6214 loss_val: 1.4491 acc_val: 0.5000 time: 0.0038s\n",
            "Epoch: 0057 loss_train: 1.2255 acc_train: 0.5857 loss_val: 1.4378 acc_val: 0.5047 time: 0.0041s\n",
            "Epoch: 0058 loss_train: 1.1820 acc_train: 0.6500 loss_val: 1.4263 acc_val: 0.5082 time: 0.0040s\n",
            "Epoch: 0059 loss_train: 1.1844 acc_train: 0.6429 loss_val: 1.4146 acc_val: 0.5113 time: 0.0029s\n",
            "Epoch: 0060 loss_train: 1.1836 acc_train: 0.6286 loss_val: 1.4032 acc_val: 0.5148 time: 0.0020s\n",
            "Epoch: 0061 loss_train: 1.1650 acc_train: 0.6214 loss_val: 1.3924 acc_val: 0.5202 time: 0.0020s\n",
            "Epoch: 0062 loss_train: 1.1318 acc_train: 0.6571 loss_val: 1.3822 acc_val: 0.5249 time: 0.0050s\n",
            "Epoch: 0063 loss_train: 1.1342 acc_train: 0.6357 loss_val: 1.3718 acc_val: 0.5284 time: 0.0060s\n",
            "Epoch: 0064 loss_train: 1.1161 acc_train: 0.6429 loss_val: 1.3617 acc_val: 0.5319 time: 0.0040s\n",
            "Epoch: 0065 loss_train: 1.1280 acc_train: 0.6500 loss_val: 1.3519 acc_val: 0.5378 time: 0.0030s\n",
            "Epoch: 0066 loss_train: 1.0710 acc_train: 0.6857 loss_val: 1.3423 acc_val: 0.5456 time: 0.0060s\n",
            "Epoch: 0067 loss_train: 1.0775 acc_train: 0.6571 loss_val: 1.3326 acc_val: 0.5537 time: 0.0051s\n",
            "Epoch: 0068 loss_train: 1.0435 acc_train: 0.6857 loss_val: 1.3231 acc_val: 0.5592 time: 0.0030s\n",
            "Epoch: 0069 loss_train: 1.0277 acc_train: 0.6929 loss_val: 1.3136 acc_val: 0.5646 time: 0.0030s\n",
            "Epoch: 0070 loss_train: 1.0202 acc_train: 0.6714 loss_val: 1.3041 acc_val: 0.5674 time: 0.0030s\n",
            "Epoch: 0071 loss_train: 1.0473 acc_train: 0.6857 loss_val: 1.2939 acc_val: 0.5717 time: 0.0029s\n",
            "Epoch: 0072 loss_train: 0.9992 acc_train: 0.7214 loss_val: 1.2845 acc_val: 0.5748 time: 0.0060s\n",
            "Epoch: 0073 loss_train: 0.9883 acc_train: 0.7286 loss_val: 1.2754 acc_val: 0.5767 time: 0.0040s\n",
            "Epoch: 0074 loss_train: 0.9673 acc_train: 0.7214 loss_val: 1.2660 acc_val: 0.5775 time: 0.0030s\n",
            "Epoch: 0075 loss_train: 0.9550 acc_train: 0.7357 loss_val: 1.2560 acc_val: 0.5810 time: 0.0050s\n",
            "Epoch: 0076 loss_train: 0.9518 acc_train: 0.7143 loss_val: 1.2468 acc_val: 0.5837 time: 0.0050s\n",
            "Epoch: 0077 loss_train: 0.9441 acc_train: 0.7357 loss_val: 1.2378 acc_val: 0.5872 time: 0.0036s\n",
            "Epoch: 0078 loss_train: 0.9319 acc_train: 0.7571 loss_val: 1.2292 acc_val: 0.5892 time: 0.0031s\n",
            "Epoch: 0079 loss_train: 0.9036 acc_train: 0.7643 loss_val: 1.2215 acc_val: 0.5919 time: 0.0029s\n",
            "Epoch: 0080 loss_train: 0.9106 acc_train: 0.7429 loss_val: 1.2132 acc_val: 0.5970 time: 0.0040s\n",
            "Epoch: 0081 loss_train: 0.9149 acc_train: 0.7429 loss_val: 1.2047 acc_val: 0.6001 time: 0.0050s\n",
            "Epoch: 0082 loss_train: 0.8926 acc_train: 0.7714 loss_val: 1.1965 acc_val: 0.6024 time: 0.0040s\n",
            "Epoch: 0083 loss_train: 0.9165 acc_train: 0.7500 loss_val: 1.1878 acc_val: 0.6063 time: 0.0050s\n",
            "Epoch: 0084 loss_train: 0.8798 acc_train: 0.7714 loss_val: 1.1790 acc_val: 0.6079 time: 0.0030s\n",
            "Epoch: 0085 loss_train: 0.8747 acc_train: 0.7786 loss_val: 1.1702 acc_val: 0.6098 time: 0.0040s\n",
            "Epoch: 0086 loss_train: 0.8627 acc_train: 0.7929 loss_val: 1.1616 acc_val: 0.6133 time: 0.0030s\n",
            "Epoch: 0087 loss_train: 0.8612 acc_train: 0.7929 loss_val: 1.1537 acc_val: 0.6153 time: 0.0030s\n",
            "Epoch: 0088 loss_train: 0.8698 acc_train: 0.8071 loss_val: 1.1461 acc_val: 0.6160 time: 0.0040s\n",
            "Epoch: 0089 loss_train: 0.8098 acc_train: 0.8357 loss_val: 1.1387 acc_val: 0.6195 time: 0.0050s\n",
            "Epoch: 0090 loss_train: 0.8286 acc_train: 0.8286 loss_val: 1.1313 acc_val: 0.6223 time: 0.0030s\n",
            "Epoch: 0091 loss_train: 0.7919 acc_train: 0.8286 loss_val: 1.1238 acc_val: 0.6254 time: 0.0050s\n",
            "Epoch: 0092 loss_train: 0.7797 acc_train: 0.8429 loss_val: 1.1160 acc_val: 0.6293 time: 0.0050s\n",
            "Epoch: 0093 loss_train: 0.7539 acc_train: 0.8786 loss_val: 1.1086 acc_val: 0.6336 time: 0.0039s\n",
            "Epoch: 0094 loss_train: 0.8075 acc_train: 0.8286 loss_val: 1.1020 acc_val: 0.6386 time: 0.0029s\n",
            "Epoch: 0095 loss_train: 0.7681 acc_train: 0.8500 loss_val: 1.0956 acc_val: 0.6421 time: 0.0030s\n",
            "Epoch: 0096 loss_train: 0.7314 acc_train: 0.8286 loss_val: 1.0892 acc_val: 0.6452 time: 0.0030s\n",
            "Epoch: 0097 loss_train: 0.7305 acc_train: 0.8786 loss_val: 1.0826 acc_val: 0.6491 time: 0.0030s\n",
            "Epoch: 0098 loss_train: 0.7108 acc_train: 0.8786 loss_val: 1.0760 acc_val: 0.6515 time: 0.0025s\n",
            "Epoch: 0099 loss_train: 0.7099 acc_train: 0.8714 loss_val: 1.0703 acc_val: 0.6488 time: 0.0040s\n",
            "Epoch: 0100 loss_train: 0.7307 acc_train: 0.8286 loss_val: 1.0643 acc_val: 0.6515 time: 0.0039s\n",
            "Optimization Finished!\n",
            "Total time elapsed: 2.7838s\n",
            "Test set results: loss= 1.0643 accuracy= 0.6515\n"
          ]
        }
      ],
      "source": [
        "# Train model\n",
        "t_total = time.time()\n",
        "for epoch in range(args[\"epochs\"]):\n",
        "    train(epoch)\n",
        "print(\"Optimization Finished!\")\n",
        "print(\"Total time elapsed: {:.4f}s\".format(time.time() - t_total))\n",
        "\n",
        "# evaluating\n",
        "test()"
      ]
    },
    {
      "cell_type": "markdown",
      "metadata": {
        "id": "mKHEyXp1EVdo"
      },
      "source": [
        "# Graph Attention Networks"
      ]
    },
    {
      "attachments": {},
      "cell_type": "markdown",
      "metadata": {
        "id": "lx15HdotKnt_"
      },
      "source": [
        "## Graph attention layer\n",
        "A GAT is made up of multiple such layers. In this section, we will implement a single graph attention layer. Similar to the `GraphConvolution()`, this `GraphAttentionLayer()` module takes $\\mathbf{h} = \\{ \\overrightarrow{h_1}, \\overrightarrow{h_2}, \\dots, \\overrightarrow{h_N} \\}$ where $\\overrightarrow{h_i} \\in \\mathbb{R}^F$ as input and outputs $\\mathbf{h'} = \\{ \\overrightarrow{h'_1}, \\overrightarrow{h'_2}, \\dots, \\overrightarrow{h'_N} \\}$, where $\\overrightarrow{h'_i} \\in \\mathbb{R}^{F'}$. However, instead of weighing each neighbouring node based on the adjacency matrix, we will use self attention to learn the relative importance of each neighbouring node. Here we will implement multi-headed attention, which involves the following steps: \n",
        "\n",
        "\n",
        "### The initial transformation\n",
        "In GCN above, we have completed similar transformation. But here, we need to define a weight matrix and perform this transformation for each head: $\\overrightarrow{s^k_i} = \\mathbf{W}^k \\overrightarrow{h_i}$. We will perform a single linear transformation and then split it up for each head later. Note the input $\\overrightarrow{h}$ has shape `[n_nodes, in_features]` and $\\overrightarrow{s}$ has shape of `[n_nodes, n_heads * n_hidden]`. Remember to reshape $\\overrightarrow{s}$ has shape of `[n_nodes, n_heads, n_hidden]` for later uses. Note: set `bias=False` for this linear transformation. \n",
        "\n",
        "### attention score\n",
        "We calculate these for each head $k$. Here for simplicity of the notation, we omit $k$ in the following equations. The attention scores are defined as the follows: \n",
        "$e_{ij} = a(\\mathbf{W} \\overrightarrow{h_i}, \\mathbf{W} \\overrightarrow{h_j}) =a(\\overrightarrow{s_i}, \\overrightarrow{s_j})$, \n",
        "where $e_{ij}$ is the attention score (importance) of node $j$ to node $i$.\n",
        "We will have to calculate this for each head. $a$ is the attention mechanism, that calculates the attention score. The paper concatenates $\\overrightarrow{s_i}$, $\\overrightarrow{s_j}$ and does a linear transformation with a weight vector $\\mathbf{a} \\in \\mathbb{R}^{2 F'}$ followed by a $\\text{LeakyReLU}$. $$e_{ij} = \\text{LeakyReLU} \\Big(\n",
        "\\mathbf{a}^\\top \\Big[ \\overrightarrow{s_i} \\Vert \\overrightarrow{s_j}  \\Big] \\Big)$$\n",
        "\n",
        "#### How to vectorize this? Some hints: \n",
        "1. `tensor.repeat()` gives you $\\{\\overrightarrow{s_1}, \\overrightarrow{s_2}, \\dots, \\overrightarrow{s_N}, \\overrightarrow{s_1}, \\overrightarrow{s_2}, \\dots, \\overrightarrow{s_N}, ...\\}$.\n",
        "\n",
        "2. `tensor.repeat_interleave()` gives you\n",
        "$\\{\\overrightarrow{s_1}, \\overrightarrow{s_1}, \\dots, \\overrightarrow{s_1}, \\overrightarrow{s_2}, \\overrightarrow{s_2}, \\dots, \\overrightarrow{s_2}, ...\\}$.\n",
        "\n",
        "3. concatenate to get $\\Big[\\overrightarrow{s_i} \\Vert \\overrightarrow{s_j} \\Big]$ for all pairs of $i, j$. Reshape $\\overrightarrow{s_i} \\Vert \\overrightarrow{s_j}$ has shape of `[n_nodes, n_nodes, n_heads, 2 * n_hidden]`\n",
        "\n",
        "4. apply the attention layer and non-linear activation function to get $e_{ij} = \\text{LeakyReLU} \\Big( \\mathbf{a}^\\top \\Big[ \\overrightarrow{s_i} \\Vert \\overrightarrow{s_j}  \\Big] \\Big)$, where $\\mathbf{a}^\\top$ is a single linear transformation that maps from dimension `n_hidden * 2` to `1`. Note: set the `bias=False` for this linear transformation. $\\mathbf{e}$ is of shape `[n_nodes, n_nodes, n_heads, 1]`. Remove the last dimension `1` using `squeeze()`. \n",
        "\n",
        "\n",
        "#### Perform softmax \n",
        "First, we need to mask $e_{ij}$ based on adjacency matrix. We only need to sum over the neighbouring nodes for the attention calculation. Set the elements in $e_{ij}$ to $- \\infty$ if there is no edge from $i$ to $j$ for the softmax calculation. We need to do this for all heads and the adjacency matrix is the same for each head. Use `tensor.masked_fill()` to mask $e_{ij}$ based on adjacency matrix for all heads. Hint: reshape the adjacency matrix to `[n_nodes, n_nodes, 1]` using `unsqueeze()`. \n",
        "Now we are ready to normalize attention scores (or coefficients) $$\\alpha_{ij} = \\text{softmax}_j(e_{ij}) =  \\frac{\\exp(e_{ij})}{\\sum_{k \\in \\mathcal{N}_i} \\exp(e_{ik})}$$\n",
        "\n",
        "#### Apply dropout\n",
        "Apply the dropout layer. (this step is easy)\n",
        "\n",
        "#### Calculate final output for each head\n",
        "$$\\overrightarrow{h'^k_i} = \\sum_{j \\in \\mathcal{N}_i} \\alpha^k_{ij} \\overrightarrow{s^k_j}$$\n",
        "\n",
        "\n",
        "#### Concat or Mean\n",
        "Finally we concateneate the transformed features: $\\overrightarrow{h'_i} = \\Bigg\\Vert_{k=1}^{K} \\overrightarrow{h'^k_i}$. In the code, we only need to reshape the tensor to shape of `[n_nodes, n_heads * n_hidden]`. Note that if it is the final layer, then it doesn't make sense to do concatenation anymore. Instead, we sum over the `n_heads` dimension: $\\overrightarrow{h'_i} = \\frac{1}{K} \\sum_{k=1}^{K} \\overrightarrow{h'^k_i}$. "
      ]
    },
    {
      "cell_type": "code",
      "execution_count": 11,
      "metadata": {
        "id": "wVu7rcOuAUZz"
      },
      "outputs": [],
      "source": [
        "class GraphAttentionLayer(nn.Module):\n",
        "\n",
        "    def __init__(self, in_features: int, out_features: int, n_heads: int,\n",
        "                 is_concat: bool = True,\n",
        "                 dropout: float = 0.6,\n",
        "                 alpha: float = 0.2):\n",
        "        \"\"\"\n",
        "        in_features: F, the number of input features per node\n",
        "        out_features: F', the number of output features per node\n",
        "        n_heads: K, the number of attention heads\n",
        "        is_concat: whether the multi-head results should be concatenated or averaged\n",
        "        dropout: the dropout probability\n",
        "        alpha: the negative slope for leaky relu activation\n",
        "        \"\"\"\n",
        "        super(GraphAttentionLayer, self).__init__()\n",
        "\n",
        "        self.is_concat = is_concat\n",
        "        self.n_heads = n_heads\n",
        "\n",
        "        if is_concat:\n",
        "            assert out_features % n_heads == 0\n",
        "            self.n_hidden = out_features // n_heads\n",
        "        else:\n",
        "            self.n_hidden = out_features\n",
        "\n",
        "        self.W = nn.Linear(in_features, self.n_hidden*self.n_heads, bias=False)\n",
        "        self.attention = nn.Linear(2*self.n_hidden, 1, bias=False)\n",
        "        self.activation = nn.LeakyReLU(alpha)\n",
        "        self.softmax = nn.Softmax(dim=1)\n",
        "        self.dropout_layer = nn.Dropout(dropout)\n",
        "\n",
        "    def forward(self, h: torch.Tensor, adj_mat: torch.Tensor):\n",
        "        # Number of nodes\n",
        "        n_nodes = h.shape[0]\n",
        "        # print(\"n_nodes:  \", n_nodes)\n",
        "        s = self.W(h).view(n_nodes, self.n_heads, self.n_hidden)\n",
        "        # print(\"Shape of s: \", s.shape)\n",
        "        a = torch.cat([s.repeat(n_nodes,1,1),s.repeat_interleave(n_nodes,dim=0)], dim=2).view(n_nodes, n_nodes, self.n_heads, 2*self.n_hidden)\n",
        "        # print(\"Shape after concatenation: \", a.shape)\n",
        "        a = self.attention(a).squeeze(3)\n",
        "        # print(\"Shape after attention and squeeze: \", a.shape)\n",
        "        a = self.activation(a)\n",
        "        # print(\"Shape after activation: \", a.shape)\n",
        "        adj_mat = adj_mat.unsqueeze(dim=2)\n",
        "        # print(\"Shape of adj_mat after unsqueeze: \", adj_mat.shape)\n",
        "        a = a.masked_fill(adj_mat==0, -torch.inf)\n",
        "        # print(\"Shape after masked_fill: \", a.shape)\n",
        "        a = self.softmax(a)\n",
        "        # print(\"Shape after SoftMax layer: \", a.shape)\n",
        "        a = self.dropout_layer(a)\n",
        "        # print(\"Shape after dropout: \", a.shape)\n",
        "\n",
        "        # Summation \n",
        "        h_prime = torch.einsum('ijh,jhf->ihf', a, s) #[n_nodes, n_heads, n_hidden]\n",
        "        # print(\"Shape of h_prime after einsum: \", h_prime.shape)\n",
        "\n",
        "\n",
        "        \n",
        "        # Concatenate the heads\n",
        "        if self.is_concat:\n",
        "           \n",
        "            h_prime = h_prime.reshape(n_nodes, -1)\n",
        "            # print(\"Shape of h_prime after concat: \", h_prime.shape)\n",
        "\n",
        "            \n",
        "        # Take the mean of the heads (for the last layer)\n",
        "        else:\n",
        "            h_prime = h_prime.mean(dim=1)\n",
        "            # print(\"Shape of h_prime after mean: \", h_prime.shape)\n",
        "\n",
        "\n",
        "\n",
        "        return h_prime\n",
        "\n",
        "\n"
      ]
    },
    {
      "cell_type": "markdown",
      "metadata": {
        "id": "YOSk_ZShi2nR"
      },
      "source": [
        "## Define GAT network\n",
        "it's really similar to how we defined GCN. We followed the paper to use two attention layers and ELU() activation function. "
      ]
    },
    {
      "cell_type": "code",
      "execution_count": 12,
      "metadata": {
        "id": "jKNbUtPVi1Vs"
      },
      "outputs": [],
      "source": [
        "class GAT(nn.Module):\n",
        "\n",
        "    def __init__(self, nfeat: int, n_hidden: int, n_classes: int, n_heads: int, dropout: float, alpha: float):\n",
        "        \"\"\"\n",
        "        in_features: the number of features per node\n",
        "        n_hidden: the number of features in the first graph attention layer\n",
        "        n_classes: the number of classes\n",
        "        n_heads: the number of heads in the graph attention layers\n",
        "        dropout: the dropout probability\n",
        "        alpha: the negative input slope for leaky ReLU of the attention layer\n",
        "        \"\"\"\n",
        "        super().__init__()\n",
        "\n",
        "        # First graph attention layer where we concatenate the heads\n",
        "        self.gc1 = GraphAttentionLayer(nfeat, n_hidden, n_heads, is_concat=True, dropout=dropout, alpha=alpha)\n",
        "        self.gc2 = GraphAttentionLayer(n_hidden, n_classes, 1, is_concat=False, dropout=dropout, alpha=alpha)\n",
        "        self.activation = nn.ELU()  \n",
        "        self.dropout = nn.Dropout(dropout)\n",
        "\n",
        "    def forward(self, x: torch.Tensor, adj_mat: torch.Tensor):\n",
        "        \"\"\"\n",
        "        x: the features vectors\n",
        "        adj_mat: the adjacency matrix\n",
        "        \"\"\"\n",
        "        x = self.dropout(x)\n",
        "        x = self.gc1(x, adj_mat)\n",
        "        x = self.activation(x)\n",
        "        x = self.dropout(x)\n",
        "        x = self.gc2(x, adj_mat)\n",
        "        return x"
      ]
    },
    {
      "cell_type": "markdown",
      "metadata": {
        "id": "CtRQ3Ced7RAw"
      },
      "source": [
        "## training GAT"
      ]
    },
    {
      "cell_type": "code",
      "execution_count": 8,
      "metadata": {
        "id": "b7D5mYXC6zTG"
      },
      "outputs": [],
      "source": [
        "args = {\"training_samples\": 140,\n",
        "        \"epochs\": 100,\n",
        "        \"lr\": 0.01,\n",
        "        \"weight_decay\": 5e-4,\n",
        "        \"hidden\": 16,\n",
        "        \"dropout\": 0.5,\n",
        "        \"bias\": True, \n",
        "        \"alpha\": 0.2,\n",
        "        \"n_heads\": 8\n",
        "        }"
      ]
    },
    {
      "cell_type": "code",
      "execution_count": 13,
      "metadata": {
        "id": "7MYaK98hDy7u"
      },
      "outputs": [
        {
          "name": "stdout",
          "output_type": "stream",
          "text": [
            "Loading cora dataset...\n"
          ]
        }
      ],
      "source": [
        "model = GAT(nfeat=features.shape[1],\n",
        "            n_hidden=args[\"hidden\"],\n",
        "            n_classes=labels.max().item() + 1,\n",
        "            dropout=args[\"dropout\"],\n",
        "            alpha=args[\"alpha\"],\n",
        "            n_heads=args[\"n_heads\"]).to(device)\n",
        "optimizer = optim.Adam(model.parameters(),\n",
        "                       lr=args[\"lr\"], weight_decay=args[\"weight_decay\"])\n",
        "\n",
        "adj, features, labels, idx_train, idx_val = load_data(training_samples=args[\"training_samples\"])\n",
        "adj, features, labels, idx_train, idx_val = adj.to(device), features.to(device), labels.to(device), idx_train.to(device), idx_val.to(device)"
      ]
    },
    {
      "cell_type": "code",
      "execution_count": 14,
      "metadata": {
        "id": "E9FcfXwMDzEt"
      },
      "outputs": [
        {
          "name": "stdout",
          "output_type": "stream",
          "text": [
            "Epoch: 0001 loss_train: 1.9456 acc_train: 0.1571 loss_val: 1.9427 acc_val: 0.4365 time: 0.8025s\n",
            "Epoch: 0002 loss_train: 1.9414 acc_train: 0.4286 loss_val: 1.9393 acc_val: 0.4194 time: 0.1970s\n",
            "Epoch: 0003 loss_train: 1.9354 acc_train: 0.4429 loss_val: 1.9357 acc_val: 0.3914 time: 0.2518s\n",
            "Epoch: 0004 loss_train: 1.9299 acc_train: 0.4571 loss_val: 1.9317 acc_val: 0.3855 time: 0.2262s\n",
            "Epoch: 0005 loss_train: 1.9250 acc_train: 0.4143 loss_val: 1.9273 acc_val: 0.3703 time: 0.2560s\n",
            "Epoch: 0006 loss_train: 1.9176 acc_train: 0.4857 loss_val: 1.9225 acc_val: 0.3618 time: 0.2320s\n",
            "Epoch: 0007 loss_train: 1.9108 acc_train: 0.4500 loss_val: 1.9173 acc_val: 0.3509 time: 0.2422s\n",
            "Epoch: 0008 loss_train: 1.9082 acc_train: 0.4214 loss_val: 1.9118 acc_val: 0.3462 time: 0.2394s\n",
            "Epoch: 0009 loss_train: 1.9005 acc_train: 0.4071 loss_val: 1.9059 acc_val: 0.3450 time: 0.2271s\n",
            "Epoch: 0010 loss_train: 1.8873 acc_train: 0.4929 loss_val: 1.8997 acc_val: 0.3438 time: 0.2359s\n",
            "Epoch: 0011 loss_train: 1.8794 acc_train: 0.4571 loss_val: 1.8932 acc_val: 0.3454 time: 0.2292s\n",
            "Epoch: 0012 loss_train: 1.8728 acc_train: 0.4429 loss_val: 1.8863 acc_val: 0.3477 time: 0.2330s\n",
            "Epoch: 0013 loss_train: 1.8490 acc_train: 0.4286 loss_val: 1.8790 acc_val: 0.3462 time: 0.2319s\n",
            "Epoch: 0014 loss_train: 1.8424 acc_train: 0.4071 loss_val: 1.8713 acc_val: 0.3474 time: 0.2411s\n",
            "Epoch: 0015 loss_train: 1.8480 acc_train: 0.4429 loss_val: 1.8632 acc_val: 0.3481 time: 0.2265s\n",
            "Epoch: 0016 loss_train: 1.8401 acc_train: 0.4000 loss_val: 1.8549 acc_val: 0.3485 time: 0.2319s\n",
            "Epoch: 0017 loss_train: 1.8170 acc_train: 0.4000 loss_val: 1.8462 acc_val: 0.3528 time: 0.2320s\n",
            "Epoch: 0018 loss_train: 1.8121 acc_train: 0.4571 loss_val: 1.8370 acc_val: 0.3532 time: 0.2320s\n",
            "Epoch: 0019 loss_train: 1.7857 acc_train: 0.4571 loss_val: 1.8275 acc_val: 0.3544 time: 0.2400s\n",
            "Epoch: 0020 loss_train: 1.7718 acc_train: 0.5000 loss_val: 1.8176 acc_val: 0.3544 time: 0.2360s\n",
            "Epoch: 0021 loss_train: 1.7606 acc_train: 0.3929 loss_val: 1.8074 acc_val: 0.3544 time: 0.2480s\n",
            "Epoch: 0022 loss_train: 1.7687 acc_train: 0.4357 loss_val: 1.7970 acc_val: 0.3555 time: 0.2423s\n",
            "Epoch: 0023 loss_train: 1.7341 acc_train: 0.4143 loss_val: 1.7864 acc_val: 0.3571 time: 0.2320s\n",
            "Epoch: 0024 loss_train: 1.7014 acc_train: 0.4357 loss_val: 1.7754 acc_val: 0.3590 time: 0.2337s\n",
            "Epoch: 0025 loss_train: 1.7114 acc_train: 0.4214 loss_val: 1.7642 acc_val: 0.3606 time: 0.2430s\n",
            "Epoch: 0026 loss_train: 1.6700 acc_train: 0.4214 loss_val: 1.7528 acc_val: 0.3621 time: 0.2334s\n",
            "Epoch: 0027 loss_train: 1.7094 acc_train: 0.3429 loss_val: 1.7415 acc_val: 0.3629 time: 0.2480s\n",
            "Epoch: 0028 loss_train: 1.6420 acc_train: 0.4786 loss_val: 1.7298 acc_val: 0.3672 time: 0.2317s\n",
            "Epoch: 0029 loss_train: 1.6214 acc_train: 0.3929 loss_val: 1.7180 acc_val: 0.3707 time: 0.2270s\n",
            "Epoch: 0030 loss_train: 1.6325 acc_train: 0.4214 loss_val: 1.7063 acc_val: 0.3750 time: 0.2339s\n",
            "Epoch: 0031 loss_train: 1.6443 acc_train: 0.4286 loss_val: 1.6947 acc_val: 0.3801 time: 0.2501s\n",
            "Epoch: 0032 loss_train: 1.5919 acc_train: 0.4143 loss_val: 1.6832 acc_val: 0.3832 time: 0.2300s\n",
            "Epoch: 0033 loss_train: 1.6297 acc_train: 0.4214 loss_val: 1.6718 acc_val: 0.3875 time: 0.2390s\n",
            "Epoch: 0034 loss_train: 1.5923 acc_train: 0.4571 loss_val: 1.6603 acc_val: 0.3914 time: 0.2361s\n",
            "Epoch: 0035 loss_train: 1.5428 acc_train: 0.4571 loss_val: 1.6488 acc_val: 0.3945 time: 0.2310s\n",
            "Epoch: 0036 loss_train: 1.5574 acc_train: 0.4214 loss_val: 1.6374 acc_val: 0.3999 time: 0.2400s\n",
            "Epoch: 0037 loss_train: 1.5715 acc_train: 0.4143 loss_val: 1.6261 acc_val: 0.4038 time: 0.2299s\n",
            "Epoch: 0038 loss_train: 1.5374 acc_train: 0.4786 loss_val: 1.6149 acc_val: 0.4100 time: 0.2302s\n",
            "Epoch: 0039 loss_train: 1.5079 acc_train: 0.4714 loss_val: 1.6037 acc_val: 0.4178 time: 0.2273s\n",
            "Epoch: 0040 loss_train: 1.5187 acc_train: 0.4571 loss_val: 1.5928 acc_val: 0.4256 time: 0.2270s\n",
            "Epoch: 0041 loss_train: 1.4933 acc_train: 0.5143 loss_val: 1.5818 acc_val: 0.4330 time: 0.2219s\n",
            "Epoch: 0042 loss_train: 1.5184 acc_train: 0.5071 loss_val: 1.5710 acc_val: 0.4443 time: 0.2288s\n",
            "Epoch: 0043 loss_train: 1.4255 acc_train: 0.5429 loss_val: 1.5601 acc_val: 0.4544 time: 0.2396s\n",
            "Epoch: 0044 loss_train: 1.4311 acc_train: 0.5429 loss_val: 1.5496 acc_val: 0.4650 time: 0.2404s\n",
            "Epoch: 0045 loss_train: 1.4178 acc_train: 0.5786 loss_val: 1.5392 acc_val: 0.4821 time: 0.2277s\n",
            "Epoch: 0046 loss_train: 1.4208 acc_train: 0.5643 loss_val: 1.5290 acc_val: 0.4957 time: 0.2421s\n",
            "Epoch: 0047 loss_train: 1.3957 acc_train: 0.5357 loss_val: 1.5188 acc_val: 0.5113 time: 0.2319s\n",
            "Epoch: 0048 loss_train: 1.4021 acc_train: 0.5857 loss_val: 1.5087 acc_val: 0.5300 time: 0.2410s\n",
            "Epoch: 0049 loss_train: 1.3588 acc_train: 0.6071 loss_val: 1.4988 acc_val: 0.5456 time: 0.2440s\n",
            "Epoch: 0050 loss_train: 1.3428 acc_train: 0.6143 loss_val: 1.4891 acc_val: 0.5627 time: 0.2320s\n",
            "Epoch: 0051 loss_train: 1.3463 acc_train: 0.6571 loss_val: 1.4794 acc_val: 0.5810 time: 0.2420s\n",
            "Epoch: 0052 loss_train: 1.3277 acc_train: 0.5929 loss_val: 1.4696 acc_val: 0.5919 time: 0.2416s\n",
            "Epoch: 0053 loss_train: 1.4228 acc_train: 0.5929 loss_val: 1.4599 acc_val: 0.6001 time: 0.2390s\n",
            "Epoch: 0054 loss_train: 1.3291 acc_train: 0.6714 loss_val: 1.4500 acc_val: 0.6086 time: 0.2256s\n",
            "Epoch: 0055 loss_train: 1.3447 acc_train: 0.6429 loss_val: 1.4400 acc_val: 0.6137 time: 0.2342s\n",
            "Epoch: 0056 loss_train: 1.3170 acc_train: 0.6429 loss_val: 1.4300 acc_val: 0.6164 time: 0.2310s\n",
            "Epoch: 0057 loss_train: 1.2933 acc_train: 0.6286 loss_val: 1.4201 acc_val: 0.6219 time: 0.2545s\n",
            "Epoch: 0058 loss_train: 1.2854 acc_train: 0.6857 loss_val: 1.4103 acc_val: 0.6266 time: 0.2470s\n",
            "Epoch: 0059 loss_train: 1.2858 acc_train: 0.7143 loss_val: 1.4005 acc_val: 0.6336 time: 0.2410s\n",
            "Epoch: 0060 loss_train: 1.2712 acc_train: 0.7000 loss_val: 1.3905 acc_val: 0.6371 time: 0.2361s\n",
            "Epoch: 0061 loss_train: 1.2320 acc_train: 0.6500 loss_val: 1.3805 acc_val: 0.6425 time: 0.2250s\n",
            "Epoch: 0062 loss_train: 1.2234 acc_train: 0.6429 loss_val: 1.3710 acc_val: 0.6472 time: 0.2409s\n",
            "Epoch: 0063 loss_train: 1.1830 acc_train: 0.7286 loss_val: 1.3616 acc_val: 0.6530 time: 0.2431s\n",
            "Epoch: 0064 loss_train: 1.1437 acc_train: 0.7143 loss_val: 1.3521 acc_val: 0.6600 time: 0.2329s\n",
            "Epoch: 0065 loss_train: 1.2508 acc_train: 0.6429 loss_val: 1.3429 acc_val: 0.6671 time: 0.2346s\n",
            "Epoch: 0066 loss_train: 1.2941 acc_train: 0.6786 loss_val: 1.3339 acc_val: 0.6698 time: 0.2309s\n",
            "Epoch: 0067 loss_train: 1.1952 acc_train: 0.6714 loss_val: 1.3247 acc_val: 0.6756 time: 0.2410s\n",
            "Epoch: 0068 loss_train: 1.1528 acc_train: 0.7143 loss_val: 1.3154 acc_val: 0.6803 time: 0.2363s\n",
            "Epoch: 0069 loss_train: 1.1583 acc_train: 0.7357 loss_val: 1.3063 acc_val: 0.6807 time: 0.2434s\n",
            "Epoch: 0070 loss_train: 1.1470 acc_train: 0.7214 loss_val: 1.2974 acc_val: 0.6854 time: 0.2434s\n",
            "Epoch: 0071 loss_train: 1.1017 acc_train: 0.7429 loss_val: 1.2882 acc_val: 0.6873 time: 0.2346s\n",
            "Epoch: 0072 loss_train: 1.1097 acc_train: 0.7214 loss_val: 1.2796 acc_val: 0.6908 time: 0.2330s\n",
            "Epoch: 0073 loss_train: 1.1820 acc_train: 0.7071 loss_val: 1.2710 acc_val: 0.6943 time: 0.2400s\n",
            "Epoch: 0074 loss_train: 1.0955 acc_train: 0.7357 loss_val: 1.2623 acc_val: 0.6959 time: 0.2321s\n",
            "Epoch: 0075 loss_train: 1.1247 acc_train: 0.6929 loss_val: 1.2537 acc_val: 0.6998 time: 0.2400s\n",
            "Epoch: 0076 loss_train: 1.0438 acc_train: 0.8000 loss_val: 1.2450 acc_val: 0.7033 time: 0.2501s\n",
            "Epoch: 0077 loss_train: 1.0891 acc_train: 0.7500 loss_val: 1.2364 acc_val: 0.7040 time: 0.2313s\n",
            "Epoch: 0078 loss_train: 1.0177 acc_train: 0.7643 loss_val: 1.2278 acc_val: 0.7056 time: 0.2350s\n",
            "Epoch: 0079 loss_train: 1.0885 acc_train: 0.7071 loss_val: 1.2195 acc_val: 0.7083 time: 0.2330s\n",
            "Epoch: 0080 loss_train: 1.0206 acc_train: 0.7214 loss_val: 1.2111 acc_val: 0.7114 time: 0.2397s\n",
            "Epoch: 0081 loss_train: 1.0617 acc_train: 0.7286 loss_val: 1.2027 acc_val: 0.7134 time: 0.2404s\n",
            "Epoch: 0082 loss_train: 1.0160 acc_train: 0.7500 loss_val: 1.1944 acc_val: 0.7161 time: 0.2350s\n",
            "Epoch: 0083 loss_train: 1.1622 acc_train: 0.7286 loss_val: 1.1866 acc_val: 0.7157 time: 0.2339s\n",
            "Epoch: 0084 loss_train: 1.0219 acc_train: 0.7071 loss_val: 1.1790 acc_val: 0.7165 time: 0.2420s\n",
            "Epoch: 0085 loss_train: 1.1065 acc_train: 0.7214 loss_val: 1.1716 acc_val: 0.7188 time: 0.2370s\n",
            "Epoch: 0086 loss_train: 1.0046 acc_train: 0.7857 loss_val: 1.1643 acc_val: 0.7208 time: 0.2480s\n",
            "Epoch: 0087 loss_train: 0.9868 acc_train: 0.7929 loss_val: 1.1569 acc_val: 0.7227 time: 0.2330s\n",
            "Epoch: 0088 loss_train: 1.0112 acc_train: 0.7286 loss_val: 1.1498 acc_val: 0.7231 time: 0.2458s\n",
            "Epoch: 0089 loss_train: 1.0045 acc_train: 0.7571 loss_val: 1.1430 acc_val: 0.7251 time: 0.2391s\n",
            "Epoch: 0090 loss_train: 1.0479 acc_train: 0.7429 loss_val: 1.1366 acc_val: 0.7270 time: 0.2550s\n",
            "Epoch: 0091 loss_train: 1.0031 acc_train: 0.7286 loss_val: 1.1302 acc_val: 0.7286 time: 0.2278s\n",
            "Epoch: 0092 loss_train: 1.0575 acc_train: 0.7429 loss_val: 1.1240 acc_val: 0.7294 time: 0.2436s\n",
            "Epoch: 0093 loss_train: 0.9563 acc_train: 0.7714 loss_val: 1.1180 acc_val: 0.7294 time: 0.2500s\n",
            "Epoch: 0094 loss_train: 1.0041 acc_train: 0.8000 loss_val: 1.1122 acc_val: 0.7317 time: 0.2337s\n",
            "Epoch: 0095 loss_train: 0.9609 acc_train: 0.7786 loss_val: 1.1065 acc_val: 0.7321 time: 0.2431s\n",
            "Epoch: 0096 loss_train: 1.0066 acc_train: 0.7286 loss_val: 1.1012 acc_val: 0.7313 time: 0.2329s\n",
            "Epoch: 0097 loss_train: 0.9905 acc_train: 0.7571 loss_val: 1.0960 acc_val: 0.7340 time: 0.2332s\n",
            "Epoch: 0098 loss_train: 0.9846 acc_train: 0.7000 loss_val: 1.0908 acc_val: 0.7364 time: 0.2410s\n",
            "Epoch: 0099 loss_train: 0.9498 acc_train: 0.7643 loss_val: 1.0854 acc_val: 0.7375 time: 0.2364s\n",
            "Epoch: 0100 loss_train: 0.9289 acc_train: 0.7357 loss_val: 1.0803 acc_val: 0.7375 time: 0.2309s\n",
            "Optimization Finished!\n",
            "Total time elapsed: 24.2549s\n",
            "Test set results: loss= 1.0803 accuracy= 0.7375\n"
          ]
        }
      ],
      "source": [
        "# Train model\n",
        "t_total = time.time()\n",
        "for epoch in range(args[\"epochs\"]):\n",
        "    train(epoch)\n",
        "print(\"Optimization Finished!\")\n",
        "print(\"Total time elapsed: {:.4f}s\".format(time.time() - t_total))\n",
        "\n",
        "# Testing\n",
        "test()"
      ]
    },
    {
      "cell_type": "markdown",
      "metadata": {
        "id": "n6Ox3fbTG7rc"
      },
      "source": [
        "# Comparison:\n",
        "We will compare the evaluation results for Vanilla GCN and GAT. We will comment on the discrepancy in their performance (if any) and briefly explain why we think it's the case. "
      ]
    },
    {
      "attachments": {},
      "cell_type": "markdown",
      "metadata": {
        "id": "urJ8Q-neDzHU"
      },
      "source": [
        "The GAT achieves better results than GCN in terms of validation accuracies, becasue the attention mechanism allows\n",
        "the model to allocate higher weights to more relevent connections, and discard less important connections, such that\n",
        "more prominent cross-node features are propagated throughout the graph, and more important features are extracted more\n",
        "efficiently.\n",
        "\n",
        "The GAT takes longer to train, because of its inherent complexity which is much larger than the standard GCN due\n",
        "to the learnable attention weights and so gorth. However, in relatively smaller graphs and lower depth for the graph,\n",
        "the computational cost of training (end testing) will not matter much."
      ]
    },
    {
      "cell_type": "markdown",
      "metadata": {
        "id": "Eiab3C-Ztxg_"
      },
      "source": [
        "## Acknowledgements\n",
        "Adapted from University of Toronto, Neural Networks and Deep Learning course (CSC413/2516)."
      ]
    }
  ],
  "metadata": {
    "accelerator": "GPU",
    "colab": {
      "provenance": [],
      "toc_visible": true
    },
    "kernelspec": {
      "display_name": "tf",
      "language": "python",
      "name": "python3"
    },
    "language_info": {
      "codemirror_mode": {
        "name": "ipython",
        "version": 3
      },
      "file_extension": ".py",
      "mimetype": "text/x-python",
      "name": "python",
      "nbconvert_exporter": "python",
      "pygments_lexer": "ipython3",
      "version": "3.9.15"
    },
    "vscode": {
      "interpreter": {
        "hash": "a9063ff2262220159f9d0422687c0477cf7937962d72300ed35684f58e95be43"
      }
    }
  },
  "nbformat": 4,
  "nbformat_minor": 0
}
